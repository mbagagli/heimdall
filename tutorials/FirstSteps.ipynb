{
 "cells": [
  {
   "cell_type": "markdown",
   "id": "dcbc81d9-4e23-4b86-9094-b61013c2d67f",
   "metadata": {},
   "source": [
    "![heim_logo](../logo/heim_logo_box_red.png)\n",
    "\n",
    "This is the first tutorial notebook for using the HEIMDALL package:\n",
    "authors: _Matteo Bagagli_, _Francesco Grigoli_, _Davide Bacciu_\n",
    "\n",
    "-------------------------------------------------------------"
   ]
  },
  {
   "cell_type": "markdown",
   "id": "8a0e7e36-dde0-47b3-89cb-6fce54a51775",
   "metadata": {},
   "source": [
    "## INSTALLATION\n",
    "\n",
    "In order to start using the package, an _ad-hoc_ environmnet is recommended. Therefore you can choose your preferred package manager, but an environment file for `conda` or `mamba` is provided. The envs are collected in the `envs` project folder:\n",
    "\n",
    "- `heimdall_v030_linux.yml`: recommended to user that have access to CUDA support (recommended in general when dealing with DeepLearning algorithm)\n",
    "- `heimdall_v030_macOS.yml`: targeted to users running MacOS systems. They are recommended to use METAL support to fully exploit the multiproccesing power of M1 and higher processors. Of course, performances will be affected compared to the full GPU support, but would still be enough for inference/production stages. For more info, please refer to this [link](https://developer.apple.com/metal/pytorch/)"
   ]
  },
  {
   "cell_type": "code",
   "execution_count": 4,
   "id": "32824aab-16e1-4f3b-a0c2-662f3abe59ad",
   "metadata": {},
   "outputs": [
    {
     "ename": "SyntaxError",
     "evalue": "invalid syntax (1124844745.py, line 1)",
     "output_type": "error",
     "traceback": [
      "  \u001b[36mCell\u001b[39m\u001b[36m \u001b[39m\u001b[32mIn[4]\u001b[39m\u001b[32m, line 1\u001b[39m\n\u001b[31m    \u001b[39m\u001b[31mgit clone https://github.com/mbagagli/heimdall\u001b[39m\n        ^\n\u001b[31mSyntaxError\u001b[39m\u001b[31m:\u001b[39m invalid syntax\n"
     ]
    }
   ],
   "source": [
    "git clone https://github.com/mbagagli/heimdall\n",
    "cd heimdall\n",
    "conda env create  -f envs/heimdall_v030.yml\n",
    "conda activate heimdall\n",
    "pip install .  # mind the dot"
   ]
  },
  {
   "cell_type": "markdown",
   "id": "a1df96c5-3ab0-4ec8-b3fa-c3639a63b47e",
   "metadata": {},
   "source": [
    "During installation the entire bin folder will be copied in your pyhton-path so they could be run everywhere in your system.\n",
    "Those are splitted in 2 families: `core` and `utils`, containing the driving scripts and the utils needed for plotting intermidiate and final results. Those are:\n",
    "\n",
    "**core/**\n",
    "- `HeimdallCore_1_BuildNetwork.py`\n",
    "- `HeimdallCore_1a_BuildGrid.py`\n",
    "- `HeimdallCore_2_PrepareDataset.py`\n",
    "- `HeimdallCore_2a_createHdf5.py`\n",
    "- `HeimdallCore_3_Training.py`\n",
    "- `HeimdallCore_4_Predict.py`\n",
    "- `HeimdallCore_5_ExtractResults.py`\n",
    "\n",
    "**utils/**\n",
    "- `HeimdallUtils_Plot_Label.py`\n",
    "- `HeimdallUtils_Plot_Catalog.py`\n",
    "- `HeimdallUtils_Plot_Event.py`  \n"
   ]
  },
  {
   "cell_type": "markdown",
   "id": "cb5780a3-8bcc-48cc-895f-9e033f7f82fe",
   "metadata": {},
   "source": [
    "For using HEIMDALL you need (almost everytime) a configuration file (YAML), that is distributed inside the `configs/` folder. This must be copied in your working directory and provided as input to the scripts (see next notebook)."
   ]
  },
  {
   "cell_type": "code",
   "execution_count": null,
   "id": "01164ab2-9015-46ce-a8a6-a2ceb3c313d4",
   "metadata": {},
   "outputs": [],
   "source": []
  }
 ],
 "metadata": {
  "kernelspec": {
   "display_name": "Python 3 (ipykernel)",
   "language": "python",
   "name": "python3"
  },
  "language_info": {
   "codemirror_mode": {
    "name": "ipython",
    "version": 3
   },
   "file_extension": ".py",
   "mimetype": "text/x-python",
   "name": "python",
   "nbconvert_exporter": "python",
   "pygments_lexer": "ipython3",
   "version": "3.12.11"
  }
 },
 "nbformat": 4,
 "nbformat_minor": 5
}
